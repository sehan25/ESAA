{
  "nbformat": 4,
  "nbformat_minor": 0,
  "metadata": {
    "colab": {
      "name": "0311(금) 1주차 과제.ipynb",
      "private_outputs": true,
      "provenance": [],
      "authorship_tag": "ABX9TyP9fvOP5kHWBbGjB0Xdxg8y",
      "include_colab_link": true
    },
    "kernelspec": {
      "name": "python3",
      "display_name": "Python 3"
    },
    "language_info": {
      "name": "python"
    }
  },
  "cells": [
    {
      "cell_type": "markdown",
      "metadata": {
        "id": "view-in-github",
        "colab_type": "text"
      },
      "source": [
        "<a href=\"https://colab.research.google.com/github/sehan25/ESSA/blob/main/0311(%EA%B8%88)_1%EC%A3%BC%EC%B0%A8_%EA%B3%BC%EC%A0%9C.ipynb\" target=\"_parent\"><img src=\"https://colab.research.google.com/assets/colab-badge.svg\" alt=\"Open In Colab\"/></a>"
      ]
    },
    {
      "cell_type": "markdown",
      "source": [
        "## 01. 머신러닝의 개념\n",
        "머신러닝(Machine Learning): 일반적으로는 애플리케이션을 수정하지 않고도 데이터를 기반으로 패턴을 학습하고 결과를 예측하는 알고리즘 기법을 통칭한다.\n",
        "* 머신러닝 알고리즘은 데이터를 기반으로 통계적인 신뢰도를 강화하고 예측 오류를 최소화하기 위한 다양한 수학적 기법을 적용해 데이터 내의 패턴을 스스로 인지하고 신뢰도 있는 예측 결과를 도출해 낸다.\n",
        "\n",
        "> ### 머신러닝의 분류\n",
        "\n",
        "* 지도학습(Supervised Learning)\n",
        "    * 분류(Classification)\n",
        "    * 회귀(Regression)\n",
        "    * 추천 시스템, 시각/음성 감지/인지, 텍스트 분석,LNP\n",
        "* 비지도학습(Un-supervised Learning)\n",
        "    * 클러스터링, 차원 축소\n",
        "* 강화학습(Reinforcement Learning)\n",
        "\n",
        "## 02. 파이썬 머신러닝 생태계를 구성하는 주요 패키지\n",
        "* **머신러닝 패키지**: 사이킷런(Scikit-Learn)  ++텐서플로, 케라스 등의 전문 딥러닝 라이브러리\n",
        "* **행렬/선형대수/통계 패키지**: 넘파이(NumPy), 사이파이(SciPy)\n",
        "* **데이터 핸들링**: 판다스(Pandas)\n",
        "* **시각화**: 맷플롯립(Matplotlib), 시본(Seaborn)\n",
        "\n",
        "## 03. 넘파이(NumPy)\n",
        "넘파이(Numerical Python): 파이썬에서 선형대수 기반의 프로그램을 쉽게 만들 수 있도록 지원하는 대표적인 패키지\n",
        "* 루프를 사용하지 않고 대량 데이터의 배열 연산을 가능하게 하므로 빠른 배열 연산 속도를 보장한다.\n",
        "* C/C++과 같은 저수준 언어 기반의 호환 API를 제공 -> 기존 C/C++기반의 타 프로그램과 데이터를 주고받거나 API를 호출해 쉽게 톻합할 수 있는 기능을 제공한다.\n",
        "* 많은 머신러닝 알고리즘이 넘파이 기반으로 작성돼 있으며, 이들 알고리즘의 입력 데이터와 출력 데이터를 넘파이 배열 타입으로 사용하기 때문에 넘파이를 이해하는 것은 매우 중요하다.\n",
        "\n",
        "\n",
        "\n",
        "> ### 넘파이 ndarray 개요\n",
        "\n",
        "```\n",
        "import numpy as np\n",
        "```\n",
        "* 넘파이의 기반 데이터 타입: **ndarray**\n",
        "* ndarray를 이용해 다차원(Multi-dimension) 배열을 쉽게 생성, 다양한 영산을 수행할 수 있다.\n",
        "* **array() 함수** - 파이썬의 리스트와 같은 다양한 인자를 입력 받아 ndarray로 변환하는 기능을 수행한다.\n",
        "    * 생성된 ndarray 배열의 shape 변수는 ndarray의 크기, 즉 행과 열의 수를 튜플 형태로 가지고 있으며 이를 통해 ndarray 배열의 차원까지 알 수 있다.\n",
        "    * np.array() - ndarray로 변환을 원하는 객체를 인자로 입력하면 ndarray를 반환한다.\n",
        "        * ndarray.shape - ndarray의 차원과 크기를 튜플(tuple) 형태로 나타내 준다.\n"
      ],
      "metadata": {
        "id": "eOuJDBBaXB9C"
      }
    },
    {
      "cell_type": "code",
      "source": [
        "import numpy as np\n",
        "\n",
        "array1 = np.array([1,2,3])\n",
        "print('array1 type:', type(array1))\n",
        "print('array1 array 형태:', array1.shape)  #1차원 array | 3개의 데이터\n",
        "\n",
        "array2 = np.array([[1,2,3],\n",
        "                   [2,3,4]])\n",
        "print('array2 type:', type(array2))\n",
        "print('array2 array 형태:', array2.shape)  #2차원 array | 2개의 row와 3개의 column, 2*3=6개의 데이터\n",
        "\n",
        "array3 = np.array([[1,2,3]])\n",
        "print('array3 type:', type(array3))\n",
        "print('array3 array 형태:', array3.shape)  #2차원 array | 1개의 row와 3개의 column, 1*3=3개의 데이터"
      ],
      "metadata": {
        "id": "SWXp5vodXJaO"
      },
      "execution_count": null,
      "outputs": []
    },
    {
      "cell_type": "markdown",
      "source": [
        "np.array() - ndarray로 변환을 원하는 객체를 인자로 입력하면 ndarray를 반환한다.\n",
        "* ndarray.shape - ndarray의 차원과 크기를 튜플(tuple) 형태로 나타내 준다.\n",
        "\n",
        "\n"
      ],
      "metadata": {
        "id": "sh-VTd-zWSm2"
      }
    }
  ]
}