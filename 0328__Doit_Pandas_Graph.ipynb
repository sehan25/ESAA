{
  "nbformat": 4,
  "nbformat_minor": 0,
  "metadata": {
    "colab": {
      "name": "0328_ Doit Pandas Graph.ipynb",
      "provenance": [],
      "authorship_tag": "ABX9TyPtK31gtT/nYeAkMo6SLDkX",
      "include_colab_link": true
    },
    "kernelspec": {
      "name": "python3",
      "display_name": "Python 3"
    },
    "language_info": {
      "name": "python"
    }
  },
  "cells": [
    {
      "cell_type": "markdown",
      "metadata": {
        "id": "view-in-github",
        "colab_type": "text"
      },
      "source": [
        "<a href=\"https://colab.research.google.com/github/sehan25/ESSA/blob/main/0328__Doit_Pandas_Graph.ipynb\" target=\"_parent\"><img src=\"https://colab.research.google.com/assets/colab-badge.svg\" alt=\"Open In Colab\"/></a>"
      ]
    },
    {
      "cell_type": "markdown",
      "source": [
        "## **04. 그래프 그리기**"
      ],
      "metadata": {
        "id": "6fIKLV9_eedc"
      }
    },
    {
      "cell_type": "markdown",
      "source": [
        "> ### 04 - 1 데이터 시각화가 필요한 이유\n",
        "> ---\n",
        "\n",
        "> #### **앤스콤 4분할 그래프 살펴보기**\n",
        "\n",
        "-- 앤스콤 4분할 그래프: 데이터를 시각화하지 않고 수치만 확인할 때 발생할 수 있는 함정을 보여주기 위해 만든 그래프"
      ],
      "metadata": {
        "id": "yjMAHm9ye2uD"
      }
    },
    {
      "cell_type": "markdown",
      "source": [
        "#### 앤스콤이 지적한 함정과 데이터 시각화의 필요성  \n",
        "\n",
        "4개의 그룹으로 구성된 데이터 집합은 모두 x, y열을 가지고 있으며 각각의 평균, 분산과 같은 수칫값이나 상관관계, 회귀선이 같다. 이러한 결과를 보고 '데이터 그룹 I, II, III, IV의 데이터는 모두 같을 것이다'라고 착각할 수 있지만, 각 데이터 그룹을 시각화하면 데이터 그룹이 서로 다른 데이터 패턴을 가지고 있다는 점을 알 수 있다."
      ],
      "metadata": {
        "id": "EdpmfUrLb2Yd"
      }
    },
    {
      "cell_type": "markdown",
      "source": [
        "*앤스콤 데이터 집합 불러온 후 그래프 그리기*  \n",
        "1. 앤스콤 데이터 집합 불러오기  \n",
        "2. **matplotlib 라이브러리**로 그래프 그리기\n",
        "3. anscombe 데이터프레임의 dataset 열에서 데이터 값이 I인 것만 추출\n",
        "4. **`plot` 메서드**에 x, y축 데이터를 전달하여 선 그래프 그리기\n",
        "5. `plot` 메서드는 기본적으로 선으로 그래프를 그리므로 점으로 그래프를 그리기 위해 `o`를 세 번째 인자로 전달하기"
      ],
      "metadata": {
        "id": "-b04aEgwYnYx"
      }
    },
    {
      "cell_type": "code",
      "execution_count": 2,
      "metadata": {
        "colab": {
          "base_uri": "https://localhost:8080/"
        },
        "id": "rQ7na251mJN8",
        "outputId": "fc3615cb-3971-43b4-8296-9fc41bcf1e15"
      },
      "outputs": [
        {
          "output_type": "stream",
          "name": "stdout",
          "text": [
            "   dataset     x      y\n",
            "0        I  10.0   8.04\n",
            "1        I   8.0   6.95\n",
            "2        I  13.0   7.58\n",
            "3        I   9.0   8.81\n",
            "4        I  11.0   8.33\n",
            "5        I  14.0   9.96\n",
            "6        I   6.0   7.24\n",
            "7        I   4.0   4.26\n",
            "8        I  12.0  10.84\n",
            "9        I   7.0   4.82\n",
            "10       I   5.0   5.68\n",
            "11      II  10.0   9.14\n",
            "12      II   8.0   8.14\n",
            "13      II  13.0   8.74\n",
            "14      II   9.0   8.77\n",
            "15      II  11.0   9.26\n",
            "16      II  14.0   8.10\n",
            "17      II   6.0   6.13\n",
            "18      II   4.0   3.10\n",
            "19      II  12.0   9.13\n",
            "20      II   7.0   7.26\n",
            "21      II   5.0   4.74\n",
            "22     III  10.0   7.46\n",
            "23     III   8.0   6.77\n",
            "24     III  13.0  12.74\n",
            "25     III   9.0   7.11\n",
            "26     III  11.0   7.81\n",
            "27     III  14.0   8.84\n",
            "28     III   6.0   6.08\n",
            "29     III   4.0   5.39\n",
            "30     III  12.0   8.15\n",
            "31     III   7.0   6.42\n",
            "32     III   5.0   5.73\n",
            "33      IV   8.0   6.58\n",
            "34      IV   8.0   5.76\n",
            "35      IV   8.0   7.71\n",
            "36      IV   8.0   8.84\n",
            "37      IV   8.0   8.47\n",
            "38      IV   8.0   7.04\n",
            "39      IV   8.0   5.25\n",
            "40      IV  19.0  12.50\n",
            "41      IV   8.0   5.56\n",
            "42      IV   8.0   7.91\n",
            "43      IV   8.0   6.89\n",
            "<class 'pandas.core.frame.DataFrame'>\n"
          ]
        }
      ],
      "source": [
        "#1\n",
        "import seaborn as sns\n",
        "\n",
        "anscombe = sns.load_dataset(\"anscombe\")\n",
        "print(anscombe)  #dataset 열 - 데이터 그룹 구분\n",
        "print(type(anscombe))"
      ]
    },
    {
      "cell_type": "code",
      "source": [
        "#2\n",
        "%matplotlib notebook\n",
        "%matplotlib inline\n",
        "import matplotlib.pyplot as plt"
      ],
      "metadata": {
        "id": "C_gMdW1vY2ku"
      },
      "execution_count": 11,
      "outputs": []
    },
    {
      "cell_type": "code",
      "source": [
        "#3\n",
        "dataset_1 = anscombe[anscombe['dataset'] == 'I']"
      ],
      "metadata": {
        "id": "Yh_6gxYXZVNJ"
      },
      "execution_count": 12,
      "outputs": []
    },
    {
      "cell_type": "code",
      "source": [
        "#4\n",
        "plt.plot(dataset_1['x'], dataset_1['y'])"
      ],
      "metadata": {
        "colab": {
          "base_uri": "https://localhost:8080/",
          "height": 284
        },
        "id": "4H_zO9hAZ_pO",
        "outputId": "8a2594d9-03b8-499a-efed-93b0087555dd"
      },
      "execution_count": 13,
      "outputs": [
        {
          "output_type": "execute_result",
          "data": {
            "text/plain": [
              "[<matplotlib.lines.Line2D at 0x7eff648ce990>]"
            ]
          },
          "metadata": {},
          "execution_count": 13
        },
        {
          "output_type": "display_data",
          "data": {
            "text/plain": [
              "<Figure size 432x288 with 1 Axes>"
            ],
            "image/png": "[encoded data removed]"
          },
          "metadata": {
            "needs_background": "light"
          }
        }
      ]
    },
    {
      "cell_type": "code",
      "source": [
        "#5\n",
        "plt.plot(dataset_1['x'], dataset_1['y'], 'o')"
      ],
      "metadata": {
        "colab": {
          "base_uri": "https://localhost:8080/",
          "height": 284
        },
        "id": "smQk6wQcaJsi",
        "outputId": "1b0b830c-d9ec-4509-f4e5-de7bf27a7b2d"
      },
      "execution_count": 14,
      "outputs": [
        {
          "output_type": "execute_result",
          "data": {
            "text/plain": [
              "[<matplotlib.lines.Line2D at 0x7eff64861090>]"
            ]
          },
          "metadata": {},
          "execution_count": 14
        },
        {
          "output_type": "display_data",
          "data": {
            "text/plain": [
              "<Figure size 432x288 with 1 Axes>"
            ],
            "image/png": "[encoded data removed]"
          },
          "metadata": {
            "needs_background": "light"
          }
        }
      ]
    },
    {
      "cell_type": "markdown",
      "source": [
        "> #### **앤스콤 데이터 집합 모두 사용해 그래프 만들기**\n",
        "\n",
        "#### matplotlib 라이브러리로 그래프 그리기\n",
        "1. 전체 그래프가 위치할 기본 틀을 만든다.\n",
        "2. 그래프를 그려 넣을 그래프 격자를 만든다.\n",
        "3. 그런 다음 격자에 그래프를 하나씩 추가한다. 격자에 그래프가 추가되는 순서는 왼쪽에서 오른쪽 방향이다.\n",
        "4. 만약 격자의 첫 번째 행이 꽉 차면 두 번째 행에 그래프를 그려 넣는다."
      ],
      "metadata": {
        "id": "zssIJOAyb3ze"
      }
    },
    {
      "cell_type": "markdown",
      "source": [
        "*한 번에 4개의 그래프 그리기* \n",
        "* 앤스콤 데이터 집합으로 그리게 될 그래프의 격자 크기는 4, 세 번째 그래프의 경우 2행 1열 위치에 그려진다.\n",
        "\n",
        "* 앤스콤 데이터프레임의 dataset 열의 값이 I, II, III, IV인 것을 불린 추출하여 dataset_1,2,3,4에 저장"
      ],
      "metadata": {
        "id": "s-ghfuiocmco"
      }
    },
    {
      "cell_type": "code",
      "source": [
        "# dataset_1,2,3,4 지정\n",
        "dataset_2 = anscombe[anscombe['dataset'] == 'II']\n",
        "dataset_3 = anscombe[anscombe['dataset'] == 'III']\n",
        "dataset_4 = anscombe[anscombe['dataset'] == 'IV']"
      ],
      "metadata": {
        "id": "rrCKWi3Yayli"
      },
      "execution_count": 15,
      "outputs": []
    },
    {
      "cell_type": "markdown",
      "source": [
        "* 그래프 격자가 위치할 기본 틀 만들기"
      ],
      "metadata": {
        "id": "GG5NyNjxiGc3"
      }
    },
    {
      "cell_type": "code",
      "source": [
        "# 기본 틀 만들기\n",
        "fig = plt.figure()"
      ],
      "metadata": {
        "colab": {
          "base_uri": "https://localhost:8080/",
          "height": 36
        },
        "id": "WH7liSnThagQ",
        "outputId": "e0028689-f482-4b47-e974-891d2b19fa38"
      },
      "execution_count": 16,
      "outputs": [
        {
          "output_type": "display_data",
          "data": {
            "text/plain": [
              "<Figure size 432x288 with 0 Axes>"
            ]
          },
          "metadata": {}
        }
      ]
    },
    {
      "cell_type": "markdown",
      "source": [
        "* **`add_subplot`** 메서드로 그래프 격자 그리기\n",
        "    * 첫 번째 인자 - 그래프 기본 틀의 행 크기, 두 번째 인자 -  그래프 기본 틀의 열 크기 지정"
      ],
      "metadata": {
        "id": "V3jMvnMyiAFd"
      }
    },
    {
      "cell_type": "code",
      "source": [
        "# 그래프 격자 그리기\n",
        "axes1 = fig.add_subplot(2,2,1)\n",
        "axes2 = fig.add_subplot(2,2,2)\n",
        "axes3 = fig.add_subplot(2,2,3)\n",
        "axes4 = fig.add_subplot(2,2,4)"
      ],
      "metadata": {
        "id": "j1jGO0ZrhgHo"
      },
      "execution_count": 17,
      "outputs": []
    },
    {
      "cell_type": "markdown",
      "source": [
        "* **`plot`** 메서드에 데이터 전달하여 그래프 그리기\n",
        "    * 그래프 확인하려면 fig 반드시 입력\n",
        "    * 점의 색상은 매번 실행 때마다 다를 수 있음"
      ],
      "metadata": {
        "id": "T_jPbRWniZvU"
      }
    },
    {
      "cell_type": "code",
      "source": [
        "# 점으로 그래프 그리기\n",
        "axes1.plot(dataset_1['x'], dataset_1['y'], 'o')\n",
        "axes2.plot(dataset_2['x'], dataset_2['y'], 'o')\n",
        "axes3.plot(dataset_3['x'], dataset_3['y'], 'o')\n",
        "axes4.plot(dataset_4['x'], dataset_4['y'], 'o')\n",
        "\n",
        "fig"
      ],
      "metadata": {
        "colab": {
          "base_uri": "https://localhost:8080/",
          "height": 265
        },
        "id": "J6ccHNa6h3Gs",
        "outputId": "4c7189c1-68c1-43f0-b15a-0a9ccf159dae"
      },
      "execution_count": 19,
      "outputs": [
        {
          "output_type": "execute_result",
          "data": {
            "text/plain": [
              "<Figure size 432x288 with 4 Axes>"
            ],
            "image/png": "[encoded data removed]"
          },
          "metadata": {},
          "execution_count": 19
        }
      ]
    },
    {
      "cell_type": "markdown",
      "source": [
        "* **`set_title`** 메서드로 그래프 격자에 제목 추가하기"
      ],
      "metadata": {
        "id": "U9JE0Rbii6Ju"
      }
    },
    {
      "cell_type": "code",
      "source": [
        "axes1.set_title(\"dataset_1\")\n",
        "axes2.set_title(\"dataset_2\")\n",
        "axes3.set_title(\"dataset_3\")\n",
        "axes4.set_title(\"dataset_4\")\n",
        "\n",
        "fig"
      ],
      "metadata": {
        "colab": {
          "base_uri": "https://localhost:8080/",
          "height": 281
        },
        "id": "tq7y1pWPitqh",
        "outputId": "b205795c-8d57-42a3-bf67-7aa5dd559957"
      },
      "execution_count": 20,
      "outputs": [
        {
          "output_type": "execute_result",
          "data": {
            "text/plain": [
              "<Figure size 432x288 with 4 Axes>"
            ],
            "image/png": "[encoded data removed]"
          },
          "metadata": {},
          "execution_count": 20
        }
      ]
    },
    {
      "cell_type": "code",
      "source": [
        ""
      ],
      "metadata": {
        "id": "1arJRJ3jjFhe"
      },
      "execution_count": null,
      "outputs": []
    }
  ]
}